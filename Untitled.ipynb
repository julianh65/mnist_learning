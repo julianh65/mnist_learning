{
 "cells": [
  {
   "cell_type": "code",
   "execution_count": 1,
   "id": "fe0dd7a5-151b-4327-87e7-1d06517de01a",
   "metadata": {},
   "outputs": [],
   "source": [
    "import numpy as np\n",
    "import struct\n",
    "import torch\n",
    "import torch.nn.functional as F\n",
    "\n",
    "\n",
    "\n",
    "with open('train-images.idx3-ubyte','rb') as f:\n",
    "    magic, size = struct.unpack(\">II\", f.read(8))\n",
    "    nrows, ncols = struct.unpack(\">II\", f.read(8))\n",
    "    data = np.fromfile(f, dtype=np.dtype(np.uint8).newbyteorder('>'))\n",
    "    x = data.reshape((size, nrows, ncols))\n",
    "\n",
    "with open('train-labels.idx1-ubyte','rb') as f:\n",
    "    magic, size = struct.unpack(\">II\", f.read(8))\n",
    "    data = np.fromfile(f, dtype=np.dtype(np.uint8).newbyteorder('>'))\n",
    "    y = data.reshape((size,))\n",
    "    \n",
    "x = torch.from_numpy(x).float()\n",
    "y = torch.from_numpy(y)\n",
    "\n",
    "mps_device = torch.device(\"mps\")\n",
    "x = x.to(mps_device)\n",
    "y = y.to(mps_device)\n"
   ]
  },
  {
   "cell_type": "code",
   "execution_count": 2,
   "id": "3ea77b8d-98f0-4c97-9cc2-64afa7c5d485",
   "metadata": {},
   "outputs": [
    {
     "name": "stdout",
     "output_type": "stream",
     "text": [
      "60000\n"
     ]
    }
   ],
   "source": [
    "print(len(x))"
   ]
  },
  {
   "cell_type": "code",
   "execution_count": 3,
   "id": "dd2c2b14-f93f-4ee1-9bf0-66e9a44201b9",
   "metadata": {},
   "outputs": [],
   "source": [
    "with open('t10k-images.idx3-ubyte','rb') as f:\n",
    "    magic, size = struct.unpack(\">II\", f.read(8))\n",
    "    nrows, ncols = struct.unpack(\">II\", f.read(8))\n",
    "    data = np.fromfile(f, dtype=np.dtype(np.uint8).newbyteorder('>'))\n",
    "    xtest = data.reshape((size, nrows, ncols))\n",
    "\n",
    "with open('t10k-labels.idx1-ubyte','rb') as f:\n",
    "    magic, size = struct.unpack(\">II\", f.read(8))\n",
    "    data = np.fromfile(f, dtype=np.dtype(np.uint8).newbyteorder('>'))\n",
    "    ytest = data.reshape((size,))\n",
    "    \n",
    "xtest = torch.from_numpy(xtest).float()\n",
    "ytest = torch.from_numpy(ytest)\n",
    "xtest = xtest.to(mps_device)\n",
    "ytest = ytest.to(mps_device)\n"
   ]
  },
  {
   "cell_type": "code",
   "execution_count": 4,
   "id": "1e85a16c-6c33-4333-a096-aa838e741278",
   "metadata": {},
   "outputs": [
    {
     "name": "stdout",
     "output_type": "stream",
     "text": [
      "label = tensor(6, dtype=torch.uint8)\n"
     ]
    },
    {
     "data": {
      "image/png": "[encoded data removed]",
      "text/plain": [
       "<Figure size 640x480 with 1 Axes>"
      ]
     },
     "metadata": {},
     "output_type": "display_data"
    }
   ],
   "source": [
    "import matplotlib.pyplot as plt\n",
    "def display_image_at_index(index, test=False):\n",
    "    # move to cpu first\n",
    "    xtestcpu = xtest.to(torch.device(\"cpu\"))\n",
    "    ytestcpu = ytest.to(torch.device(\"cpu\"))\n",
    "    xcpu = x.to(torch.device(\"cpu\"))\n",
    "    ycpu = y.to(torch.device(\"cpu\"))\n",
    "    if(test):\n",
    "        print(\"label = \" + str(ytestcpu[index]))\n",
    "        plt.imshow(xtestcpu[index,:,:], cmap='gray')\n",
    "        plt.show()\n",
    "    else:\n",
    "        print(\"label = \" + str(ycpu[index]))\n",
    "        plt.imshow(xcpu[index,:,:], cmap='gray')\n",
    "        plt.show()\n",
    "display_image_at_index(90)"
   ]
  },
  {
   "cell_type": "code",
   "execution_count": 5,
   "id": "c5a009db-36ca-4325-a4b7-76a950667b58",
   "metadata": {},
   "outputs": [
    {
     "data": {
      "text/plain": [
       "device(type='mps', index=0)"
      ]
     },
     "execution_count": 5,
     "metadata": {},
     "output_type": "execute_result"
    }
   ],
   "source": [
    "# create function that gets mini batches of size 32\n",
    "\n",
    "def get_batch(batch_size):\n",
    "    indexes = torch.randint(x.shape[0], size=(batch_size,))\n",
    "    x_batch = x[indexes]\n",
    "    y_batch = y[indexes]\n",
    "    return x_batch, y_batch\n",
    "\n",
    "\n",
    "xb, yb = get_batch(32)\n",
    "xb.device\n"
   ]
  },
  {
   "cell_type": "code",
   "execution_count": 6,
   "id": "baa5648c-3db1-4e03-a301-3607c1b7f492",
   "metadata": {},
   "outputs": [],
   "source": [
    "import matplotlib.pyplot as plt\n",
    "\n",
    "def visualize_probabilities(probabilities):\n",
    "    # Convert probabilities to a numpy array\n",
    "    probabilities = probabilities.detach().numpy()[0]\n",
    "\n",
    "    # Create a figure and axis\n",
    "    fig, ax = plt.subplots(figsize=(8, 4))\n",
    "\n",
    "    # Create a bar chart\n",
    "    bar_colors = ['blue' if p == probabilities.max() else 'gray' for p in probabilities]\n",
    "    ax.bar(range(len(probabilities)), probabilities, color=bar_colors)\n",
    "\n",
    "    # Set the tick labels and rotate them\n",
    "    ax.set_xticks(range(len(probabilities)))\n",
    "    ax.set_xticklabels([f'Class {i}' for i in range(len(probabilities))])\n",
    "    plt.setp(ax.get_xticklabels(), rotation=45, ha=\"right\", rotation_mode=\"anchor\")\n",
    "\n",
    "    # Add labels and title\n",
    "    ax.set_xlabel('Classes')\n",
    "    ax.set_ylabel('Probability')\n",
    "    ax.set_title('Probability Visualization')\n",
    "\n",
    "    # Adjust the layout and display the plot\n",
    "    fig.tight_layout()\n",
    "    plt.show()\n"
   ]
  },
  {
   "cell_type": "code",
   "execution_count": 7,
   "id": "8f5d903c-7f24-4b84-8347-1c08a0373890",
   "metadata": {},
   "outputs": [],
   "source": [
    "# my model architecture:\n",
    "# should do kaiming normal on them\n",
    "# simple model of:\n",
    "# input layer of input dim (28 x 28), output dim as hyper params\n",
    "#   input layer will have weights (no bias since we're doing batch norm), batch norm, relu non linearity\n",
    "# input size of output dim of previous layer and weights and biases then a non linearity then output dim of 10\n",
    "# then we will have the logits / loss function\n",
    "# see how this goes"
   ]
  },
  {
   "cell_type": "code",
   "execution_count": null,
   "id": "33a63206-66cc-4e6b-a6d3-9e04f4f25df1",
   "metadata": {},
   "outputs": [],
   "source": []
  },
  {
   "cell_type": "code",
   "execution_count": 8,
   "id": "7fcac25a-78e8-4553-91a6-8824189cf801",
   "metadata": {},
   "outputs": [
    {
     "name": "stdout",
     "output_type": "stream",
     "text": [
      "13355722\n"
     ]
    }
   ],
   "source": [
    "hidden_layer_1_size = (28 * 28) * 6\n",
    "hidden_layer_2_size = 1024 * 2\n",
    "\n",
    "hidden_layer_1 = torch.randn((x.shape[1] * x.shape[2], hidden_layer_1_size), device=mps_device)\n",
    "batch_norm_gain_1 = torch.ones((1, hidden_layer_1_size), device=mps_device)\n",
    "batch_norm_bias_1 = torch.zeros((1, hidden_layer_1_size), device=mps_device)\n",
    "bnmean_running1 = torch.zeros((1, hidden_layer_1_size), device=mps_device)\n",
    "bnstd_running1 = torch.ones((1, hidden_layer_1_size), device=mps_device)\n",
    "\n",
    "hidden_layer_2 = torch.randn((hidden_layer_1_size, hidden_layer_2_size), device=mps_device)\n",
    "batch_norm_gain_2 = torch.ones((1, hidden_layer_2_size), device=mps_device)\n",
    "batch_norm_bias_2 = torch.zeros((1, hidden_layer_2_size), device=mps_device)\n",
    "bnmean_running2 = torch.zeros((1, hidden_layer_2_size), device=mps_device)\n",
    "bnstd_running2 = torch.ones((1, hidden_layer_2_size), device=mps_device)\n",
    "\n",
    "final_layer_weights = torch.randn((hidden_layer_2_size, 10), device=mps_device)\n",
    "final_layer_biases = torch.randn((1, 10), device=mps_device)\n",
    "\n",
    "parameters = [hidden_layer_1, batch_norm_gain_1, batch_norm_bias_1, hidden_layer_2, batch_norm_gain_2, batch_norm_bias_2, final_layer_weights, final_layer_biases ]\n",
    "print(sum(p.nelement() for p in parameters)) # number of parameters in total\n",
    "for p in parameters:\n",
    "  p.requires_grad = True"
   ]
  },
  {
   "cell_type": "code",
   "execution_count": 302,
   "id": "ff931ef4-bd18-4f72-b609-6916270b00a9",
   "metadata": {},
   "outputs": [],
   "source": []
  },
  {
   "cell_type": "code",
   "execution_count": 9,
   "id": "f10a4f00-b7bf-4634-b735-29e12b75a441",
   "metadata": {},
   "outputs": [
    {
     "name": "stdout",
     "output_type": "stream",
     "text": [
      "      0/   4000: 47.0497\n",
      "    100/   4000: 21.0055\n",
      "    200/   4000: 17.1157\n",
      "    300/   4000: 10.2736\n",
      "    400/   4000: 8.0552\n",
      "    500/   4000: 6.0409\n",
      "    600/   4000: 8.2169\n",
      "    700/   4000: 6.8117\n",
      "    800/   4000: 7.8393\n",
      "    900/   4000: 6.8850\n",
      "   1000/   4000: 3.5507\n",
      "   1100/   4000: 5.4125\n",
      "   1200/   4000: 5.0139\n",
      "   1300/   4000: 5.0057\n",
      "   1400/   4000: 4.9767\n",
      "   1500/   4000: 3.6240\n",
      "   1600/   4000: 3.0049\n",
      "   1700/   4000: 4.3186\n",
      "   1800/   4000: 4.6890\n",
      "   1900/   4000: 3.9941\n",
      "   2000/   4000: 4.5481\n",
      "   2100/   4000: 3.5105\n",
      "   2200/   4000: 5.4622\n",
      "   2300/   4000: 3.3457\n",
      "   2400/   4000: 3.0215\n",
      "   2500/   4000: 4.5348\n",
      "   2600/   4000: 3.8147\n",
      "   2700/   4000: 3.3920\n",
      "   2800/   4000: 2.7572\n",
      "   2900/   4000: 3.6503\n",
      "   3000/   4000: 2.3770\n",
      "   3100/   4000: 3.1427\n",
      "   3200/   4000: 3.2510\n",
      "   3300/   4000: 3.0862\n",
      "   3400/   4000: 3.3628\n",
      "   3500/   4000: 2.3786\n",
      "   3600/   4000: 4.8328\n",
      "   3700/   4000: 2.7444\n",
      "   3800/   4000: 3.5621\n",
      "   3900/   4000: 4.2807\n",
      "CPU times: user 26.8 s, sys: 4.32 s, total: 31.2 s\n",
      "Wall time: 56.5 s\n"
     ]
    }
   ],
   "source": [
    "%%time\n",
    "# optimization\n",
    "max_steps = 4000\n",
    "batch_size = 128\n",
    "lossi = []\n",
    "learning_rate = 0.004\n",
    "\n",
    "for i in range(max_steps):\n",
    "    # construct the minibatch\n",
    "    xb, yb = get_batch(batch_size)\n",
    "    xb = xb.view(batch_size, -1)\n",
    "\n",
    "    # forward pass for first layer\n",
    "    hidden_layer_1_activations = xb @ hidden_layer_1\n",
    "    # batchnorm layer\n",
    "    bnmeani1 = hidden_layer_1_activations.mean(0, keepdim=True)\n",
    "    bnstdi1 = hidden_layer_1_activations.std(0, keepdim=True)\n",
    "    hidden_layer_1_activations = batch_norm_gain_1 * (hidden_layer_1_activations - bnmeani1) / bnstdi1 + batch_norm_bias_1\n",
    "    with torch.no_grad():\n",
    "        bnmean_running1 = 0.999 * bnmean_running1 + 0.001 * bnmeani1\n",
    "        bnstd_running1 = 0.999 * bnstd_running1 + 0.001 * bnstdi1\n",
    "    # non linearity\n",
    "    hidden_layer_1_after_nonlinearity = torch.tanh(hidden_layer_1_activations)\n",
    "\n",
    "    # pass to next layer\n",
    "    # forward pass for first layer\n",
    "    hidden_layer_2_activations = hidden_layer_1_after_nonlinearity @ hidden_layer_2\n",
    "    # batchnorm layer\n",
    "    bnmeani2 = hidden_layer_2_activations.mean(0, keepdim=True)\n",
    "    bnstdi2 = hidden_layer_2_activations.std(0, keepdim=True)\n",
    "    hidden_layer_2_activations = batch_norm_gain_2 * (hidden_layer_2_activations - bnmeani2) / bnstdi2 + batch_norm_bias_2\n",
    "    with torch.no_grad():\n",
    "        bnmean_running2 = 0.999 * bnmean_running2 + 0.001 * bnmeani2\n",
    "        bnstd_running2 = 0.999 * bnstd_running2 + 0.001 * bnstdi2\n",
    "    # non linearity\n",
    "    hidden_layer_2_after_nonlinearity = torch.tanh(hidden_layer_2_activations)\n",
    "\n",
    "    # final layer logits\n",
    "    logits = hidden_layer_2_after_nonlinearity @ final_layer_weights + final_layer_biases\n",
    "    loss = F.cross_entropy(logits, yb)\n",
    "    \n",
    "    for p in parameters:\n",
    "        p.grad = None\n",
    "        \n",
    "    loss.backward()\n",
    "\n",
    "    for p in parameters:\n",
    "        p.data += -learning_rate * p.grad\n",
    "\n",
    "    if i % 100 == 0:\n",
    "        print(f'{i:7d}/{max_steps:7d}: {loss.item():.4f}')\n",
    "    \n",
    "    lossi.append(loss.log10().item())\n",
    "# mps time = CPU times: user 7.17 s, sys: 1.29 s, total: 8.46 s\n"
   ]
  },
  {
   "cell_type": "code",
   "execution_count": 361,
   "id": "5f5c5964-1d58-40ed-aeef-e16afb8d1a29",
   "metadata": {},
   "outputs": [
    {
     "data": {
      "text/plain": [
       "[<matplotlib.lines.Line2D at 0x176e3de10>]"
      ]
     },
     "execution_count": 361,
     "metadata": {},
     "output_type": "execute_result"
    },
    {
     "data": {
      "image/png": "[encoded data removed]",
      "text/plain": [
       "<Figure size 640x480 with 1 Axes>"
      ]
     },
     "metadata": {},
     "output_type": "display_data"
    }
   ],
   "source": [
    "plt.plot(lossi)"
   ]
  },
  {
   "cell_type": "code",
   "execution_count": 232,
   "id": "3e166eef-e76a-42eb-baff-4e76b2635d01",
   "metadata": {},
   "outputs": [],
   "source": [
    "def sample_from_model(x, visualize=False):\n",
    "    # reshape the input to a batch size of 1\n",
    "    x = x.view(1, -1)\n",
    "\n",
    "    # forward pass for first layer\n",
    "    hidden_layer_1_activations = x @ hidden_layer_1\n",
    "\n",
    "    # batchnorm layer\n",
    "    hidden_layer_1_activations = batch_norm_gain_1 * (hidden_layer_1_activations - bnmean_running1) / bnstd_running1 + batch_norm_bias_1\n",
    "\n",
    "    # non linearity\n",
    "    hidden_layer_1_after_nonlinearity = torch.tanh(hidden_layer_1_activations)\n",
    "\n",
    "    # pass to next layer\n",
    "    # forward pass for first layer\n",
    "    hidden_layer_2_activations = hidden_layer_1_after_nonlinearity @ hidden_layer_2\n",
    "\n",
    "    # batchnorm layer\n",
    "    hidden_layer_2_activations = batch_norm_gain_2 * (hidden_layer_2_activations - bnmean_running2) / bnstd_running2 + batch_norm_bias_2\n",
    "\n",
    "    # non linearity\n",
    "    hidden_layer_2_after_nonlinearity = torch.tanh(hidden_layer_2_activations)\n",
    "\n",
    "    # final layer logits\n",
    "    logits = hidden_layer_2_after_nonlinearity @ final_layer_weights + final_layer_biases\n",
    "\n",
    "    # apply softmax to get probabilities\n",
    "    probabilities = torch.softmax(logits, dim=1)\n",
    "    if(visualize):\n",
    "        visualize_logits(probabilities)\n",
    "\n",
    "    return probabilities"
   ]
  },
  {
   "cell_type": "code",
   "execution_count": 254,
   "id": "b13e0fe9-de5d-4858-98b0-c8e50c5749cb",
   "metadata": {},
   "outputs": [
    {
     "name": "stdout",
     "output_type": "stream",
     "text": [
      "label = tensor(8, dtype=torch.uint8)\n"
     ]
    },
    {
     "data": {
      "image/png": "[encoded data removed]",
      "text/plain": [
       "<Figure size 640x480 with 1 Axes>"
      ]
     },
     "metadata": {},
     "output_type": "display_data"
    },
    {
     "data": {
      "image/png": "[encoded data removed]",
      "text/plain": [
       "<Figure size 800x400 with 1 Axes>"
      ]
     },
     "metadata": {},
     "output_type": "display_data"
    },
    {
     "name": "stdout",
     "output_type": "stream",
     "text": [
      "5\n"
     ]
    }
   ],
   "source": [
    "for i in range(20, 21):\n",
    "    image_to_sample = i\n",
    "    display_image_at_index(image_to_sample, test=True)\n",
    "    index = torch.max(sample_from_model(xtest[image_to_sample], visualize=True), 1, keepdim=True)[1].item()\n",
    "    print(index)"
   ]
  },
  {
   "cell_type": "code",
   "execution_count": null,
   "id": "4ae1efcd-e87c-40f2-96b5-b210e57cb147",
   "metadata": {},
   "outputs": [],
   "source": [
    "# get loss over entire test set:\n",
    "# next up, get loss over entire test set, make my own tool to \n",
    "# start \"torchifying\" everything into classes and blocks and modules like Karpathy did\n",
    "# try adding dropout too\n",
    "# do the analysis histograms and try to interpret them\n",
    "# write letters and visualize, do some more tweaking and playing around to optimize the model a bit more\n",
    "# try using adamw\n",
    "# look up different architectures and try them out but this time with torch.nn maybe"
   ]
  },
  {
   "cell_type": "code",
   "execution_count": null,
   "id": "259365a1-1d29-4b63-bf5d-3a1243b47cf3",
   "metadata": {},
   "outputs": [],
   "source": [
    "# split test set into half dev half final test, get loss over dev\n",
    "xtest.shape, ytest.shape\n",
    "xdev = xtest[:len(xtest) // 2]\n",
    "ydev = ytest[:len(xtest) // 2]\n",
    "xtest = xtest[len(xtest) // 2:]\n",
    "ytest = ytest[len(xtest) // 2:]"
   ]
  },
  {
   "cell_type": "code",
   "execution_count": 279,
   "id": "c9fc1cdc-f59d-4de1-8bf6-e76783e5633e",
   "metadata": {},
   "outputs": [
    {
     "data": {
      "text/plain": [
       "torch.Size([5000, 28, 28])"
      ]
     },
     "execution_count": 279,
     "metadata": {},
     "output_type": "execute_result"
    }
   ],
   "source": [
    "xdev.shape"
   ]
  },
  {
   "cell_type": "code",
   "execution_count": 288,
   "id": "0673e1fc-c0d3-403a-8798-52430b33948a",
   "metadata": {},
   "outputs": [],
   "source": [
    "def get_x_from_model(x):\n",
    "    # forward pass for first layer\n",
    "    x = x.view(x.shape[0], -1)\n",
    "    \n",
    "    hidden_layer_1_activations = x @ hidden_layer_1\n",
    "\n",
    "    # batchnorm layer\n",
    "    hidden_layer_1_activations = batch_norm_gain_1 * (hidden_layer_1_activations - bnmean_running1) / bnstd_running1 + batch_norm_bias_1\n",
    "\n",
    "    # non linearity\n",
    "    hidden_layer_1_after_nonlinearity = torch.tanh(hidden_layer_1_activations)\n",
    "\n",
    "    # pass to next layer\n",
    "    # forward pass for first layer\n",
    "    hidden_layer_2_activations = hidden_layer_1_after_nonlinearity @ hidden_layer_2\n",
    "\n",
    "    # batchnorm layer\n",
    "    hidden_layer_2_activations = batch_norm_gain_2 * (hidden_layer_2_activations - bnmean_running2) / bnstd_running2 + batch_norm_bias_2\n",
    "\n",
    "    # non linearity\n",
    "    hidden_layer_2_after_nonlinearity = torch.tanh(hidden_layer_2_activations)\n",
    "\n",
    "    # final layer logits\n",
    "    logits = hidden_layer_2_after_nonlinearity @ final_layer_weights + final_layer_biases\n",
    "\n",
    "    # apply softmax to get probabilities\n",
    "    probabilities = torch.softmax(logits, dim=1)\n",
    "\n",
    "    return probabilities"
   ]
  },
  {
   "cell_type": "code",
   "execution_count": 370,
   "id": "3b462cff-1df7-4d93-9bcb-b6a05d8d52f5",
   "metadata": {},
   "outputs": [
    {
     "name": "stdout",
     "output_type": "stream",
     "text": [
      "yo\n"
     ]
    }
   ],
   "source": []
  },
  {
   "cell_type": "code",
   "execution_count": null,
   "id": "80aa6dd4-3a70-4173-bc9f-d74c68b5a814",
   "metadata": {},
   "outputs": [],
   "source": [
    "def calculate_loss(x, y):\n",
    "    x = x.to(torch.device(\"mps\"))\n",
    "    y = y.to(torch.device(\"mps\"))\n",
    "    xpredindex = [torch.max(sample_from_model(x[i], visualize=False), 1, keepdim=True)[1].item() for i in range(0, len(x))]\n",
    "    xpred = get_x_from_model(xdev)\n",
    "\n",
    "    # run cross entropy loss on it\n",
    "    loss = F.cross_entropy(torch.tensor(xpred), y)\n",
    "    print(loss)\n",
    "    \n",
    "    # print count of same and differences\n",
    "    same = 0\n",
    "    diff = 0\n",
    "    for i in range(0, len(x)):\n",
    "        if(xpredindex[i] == y[i]):\n",
    "            same += 1\n",
    "        else:\n",
    "            diff += 1\n",
    "    print(same)\n",
    "    print(diff)\n",
    "    print(same / len(x))\n",
    "\n",
    "# initial set of hyper params\n",
    "calculate_loss(xdev, ydev)\n",
    "print(\"hi\")\n"
   ]
  },
  {
   "cell_type": "code",
   "execution_count": 300,
   "id": "77e8418a-8619-4284-9c7c-ab9029f7b7ea",
   "metadata": {},
   "outputs": [
    {
     "name": "stdout",
     "output_type": "stream",
     "text": [
      "tensor(1.6216)\n",
      "4197\n",
      "803\n",
      "0.8394\n"
     ]
    },
    {
     "name": "stderr",
     "output_type": "stream",
     "text": [
      "/var/folders/jl/kw6cvq_16z5_1frv1b3stcj80000gn/T/ipykernel_92858/631919970.py:7: UserWarning: To copy construct from a tensor, it is recommended to use sourceTensor.clone().detach() or sourceTensor.clone().detach().requires_grad_(True), rather than torch.tensor(sourceTensor).\n",
      "  loss = F.cross_entropy(torch.tensor(xpred), y)\n"
     ]
    }
   ],
   "source": [
    "# scaled up model with larger batch size and larger hidden layer 2 and 6000 training steps\n",
    "calculate_loss(xdev, ydev)\n",
    "\n",
    "# looool so actually it got worse but not that much, it's starting to overfit I believe\n",
    "# let's now go in and torchify everything\n"
   ]
  },
  {
   "cell_type": "code",
   "execution_count": null,
   "id": "8b062b9a-aa53-46d7-a6a7-400a6e12a600",
   "metadata": {},
   "outputs": [],
   "source": [
    "# even bigger model\n",
    "calculate_loss(xdev, ydev)\n",
    "\n",
    "# looool so actually it got worse but not that much, it's starting to overfit I believe\n",
    "# let's now go in and torchify everything\n"
   ]
  },
  {
   "cell_type": "code",
   "execution_count": 301,
   "id": "43460d6a-dcd5-42f3-a1b2-42e45151129f",
   "metadata": {},
   "outputs": [
    {
     "ename": "IndentationError",
     "evalue": "expected an indented block after function definition on line 18 (786795511.py, line 22)",
     "output_type": "error",
     "traceback": [
      "\u001b[0;36m  Cell \u001b[0;32mIn[301], line 22\u001b[0;36m\u001b[0m\n\u001b[0;31m    class Tanh:\u001b[0m\n\u001b[0m               ^\u001b[0m\n\u001b[0;31mIndentationError\u001b[0m\u001b[0;31m:\u001b[0m expected an indented block after function definition on line 18\n"
     ]
    }
   ],
   "source": [
    "class Linear:\n",
    "    def __init__(self, fan_in, fan_out, bias=True):\n",
    "        # initialize weights and biases\n",
    "        self.weights = torch.randn((fan_in, fan_out))\n",
    "        if(bias):\n",
    "            self.biases = torch.randn((1, fan_out))\n",
    "        \n",
    "    def __call__(self, x):\n",
    "        self.out = x @ weights\n",
    "        if(self.biases):\n",
    "            self.out = x + self.biases\n",
    "        return self.out\n",
    "        \n",
    "    def parameters(self):\n",
    "        return [self.weights] + ([] if self.biases is None else [self.biases])\n",
    "\n",
    "    \n",
    "class BatchNorm1d:\n",
    "      def __init__(self, dim, eps=1e-5, momentum=0.1):\n",
    "\n",
    "\n",
    "\n",
    "class Tanh:"
   ]
  }
 ],
 "metadata": {
  "kernelspec": {
   "display_name": "Python 3 (ipykernel)",
   "language": "python",
   "name": "python3"
  },
  "language_info": {
   "codemirror_mode": {
    "name": "ipython",
    "version": 3
   },
   "file_extension": ".py",
   "mimetype": "text/x-python",
   "name": "python",
   "nbconvert_exporter": "python",
   "pygments_lexer": "ipython3",
   "version": "3.11.4"
  }
 },
 "nbformat": 4,
 "nbformat_minor": 5
}
