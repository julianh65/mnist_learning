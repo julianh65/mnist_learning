{
 "cells": [
  {
   "cell_type": "code",
   "execution_count": 57,
   "id": "fe0dd7a5-151b-4327-87e7-1d06517de01a",
   "metadata": {},
   "outputs": [
    {
     "data": {
      "text/plain": [
       "(10000, 28, 28)"
      ]
     },
     "execution_count": 57,
     "metadata": {},
     "output_type": "execute_result"
    }
   ],
   "source": [
    "import numpy as np\n",
    "import struct\n",
    "import torch\n",
    "\n",
    "\n",
    "with open('t10k-images.idx3-ubyte','rb') as f:\n",
    "    magic, size = struct.unpack(\">II\", f.read(8))\n",
    "    nrows, ncols = struct.unpack(\">II\", f.read(8))\n",
    "    data = np.fromfile(f, dtype=np.dtype(np.uint8).newbyteorder('>'))\n",
    "    x = data.reshape((size, nrows, ncols))\n",
    "\n",
    "with open('t10k-labels.idx1-ubyte','rb') as f:\n",
    "    magic, size = struct.unpack(\">II\", f.read(8))\n",
    "    data = np.fromfile(f, dtype=np.dtype(np.uint8).newbyteorder('>'))\n",
    "    y = data.reshape((size,))\n",
    "x.shape"
   ]
  },
  {
   "cell_type": "code",
   "execution_count": 50,
   "id": "1e85a16c-6c33-4333-a096-aa838e741278",
   "metadata": {},
   "outputs": [],
   "source": [
    "import matplotlib.pyplot as plt\n",
    "def display_image_at_index(index):\n",
    "    print(\"label = \" + str(y[index]))\n",
    "    plt.imshow(x[index,:,:], cmap='gray')\n",
    "    plt.show()"
   ]
  },
  {
   "cell_type": "code",
   "execution_count": 40,
   "id": "c5a009db-36ca-4325-a4b7-76a950667b58",
   "metadata": {},
   "outputs": [
    {
     "name": "stdout",
     "output_type": "stream",
     "text": [
      "tensor([5995,  386])\n"
     ]
    }
   ],
   "source": [
    "# create function that gets mini batches of size 32\n",
    "\n",
    "def get_batch(batch_size):\n",
    "    indexes = torch.randint(x.shape[0], size=(batch_size,))\n",
    "    print(indexes)\n",
    "    x_batch = x[indexes]\n",
    "    y_batch = y[indexes]\n",
    "    return x_batch, y_batch\n",
    "\n",
    "\n",
    "xb, yb = get_batch(2)\n",
    "    "
   ]
  },
  {
   "cell_type": "code",
   "execution_count": 55,
   "id": "8f5d903c-7f24-4b84-8347-1c08a0373890",
   "metadata": {},
   "outputs": [],
   "source": [
    "# my model architecture:\n",
    "# should do kaiming normal on them\n",
    "# simple model of:\n",
    "# input layer of input dim (28 x 28), output dim as hyper params\n",
    "#   input layer will have weights (no bias since we're doing batch norm), batch norm, relu non linearity\n",
    "# input size of output dim of previous layer and weights and biases then a non linearity then output dim of 10\n",
    "# then we will have the logits / loss function\n",
    "# see how this goes"
   ]
  },
  {
   "cell_type": "code",
   "execution_count": 56,
   "id": "7fcac25a-78e8-4553-91a6-8824189cf801",
   "metadata": {},
   "outputs": [
    {
     "ename": "SyntaxError",
     "evalue": "invalid syntax (1885339506.py, line 7)",
     "output_type": "error",
     "traceback": [
      "\u001b[0;36m  Cell \u001b[0;32mIn[56], line 7\u001b[0;36m\u001b[0m\n\u001b[0;31m    batch_norm_gain_1 =\u001b[0m\n\u001b[0m                        ^\u001b[0m\n\u001b[0;31mSyntaxError\u001b[0m\u001b[0;31m:\u001b[0m invalid syntax\n"
     ]
    }
   ],
   "source": [
    "batch_size = 32\n",
    "hidden_layer_1_size = (28 * 28) * 4\n",
    "\n",
    "input_layer_weights = torch.randn((x.shape[1] * x.shape[2], hidden_layer_1_size))\n",
    "batch_norm_gain_1 = \n",
    "batch_norm_bias_1 = \n",
    "\n",
    "final_layer_weights = torch.randn(())\n",
    "final_layer_biases = torch.randn(())\n",
    "\n",
    "\n",
    "\n",
    "\n"
   ]
  }
 ],
 "metadata": {
  "kernelspec": {
   "display_name": "Python 3 (ipykernel)",
   "language": "python",
   "name": "python3"
  },
  "language_info": {
   "codemirror_mode": {
    "name": "ipython",
    "version": 3
   },
   "file_extension": ".py",
   "mimetype": "text/x-python",
   "name": "python",
   "nbconvert_exporter": "python",
   "pygments_lexer": "ipython3",
   "version": "3.11.4"
  }
 },
 "nbformat": 4,
 "nbformat_minor": 5
}
