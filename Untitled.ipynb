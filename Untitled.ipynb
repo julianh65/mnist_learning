{
 "cells": [
  {
   "cell_type": "code",
   "execution_count": 67,
   "id": "fe0dd7a5-151b-4327-87e7-1d06517de01a",
   "metadata": {},
   "outputs": [],
   "source": [
    "import numpy as np\n",
    "import struct\n",
    "import torch\n",
    "import torch.nn.functional as F\n",
    "\n",
    "\n",
    "with open('train-images.idx3-ubyte','rb') as f:\n",
    "    magic, size = struct.unpack(\">II\", f.read(8))\n",
    "    nrows, ncols = struct.unpack(\">II\", f.read(8))\n",
    "\n",
    "    data = np.fromfile(f, dtype=np.dtype(np.uint8).newbyteorder('>'))\n",
    "    x = data.reshape((size, nrows, ncols))\n",
    "\n",
    "with open('train-labels.idx1-ubyte','rb') as f:\n",
    "    magic, size = struct.unpack(\">II\", f.read(8))\n",
    "    data = np.fromfile(f, dtype=np.dtype(np.uint8).newbyteorder('>'))\n",
    "    y = data.reshape((size,))\n",
    "    \n",
    "x = torch.from_numpy(x).float()\n",
    "y = torch.from_numpy(y)\n",
    "\n",
    "mps_device = torch.device(\"mps\")\n",
    "x = x.to(mps_device)\n",
    "y = y.to(mps_device)\n"
   ]
  },
  {
   "cell_type": "code",
   "execution_count": 6,
   "id": "3ea77b8d-98f0-4c97-9cc2-64afa7c5d485",
   "metadata": {},
   "outputs": [
    {
     "name": "stdout",
     "output_type": "stream",
     "text": [
      "60000\n"
     ]
    }
   ],
   "source": [
    "print(len(x))"
   ]
  },
  {
   "cell_type": "code",
   "execution_count": 7,
   "id": "dd2c2b14-f93f-4ee1-9bf0-66e9a44201b9",
   "metadata": {},
   "outputs": [],
   "source": [
    "with open('t10k-images.idx3-ubyte','rb') as f:\n",
    "    magic, size = struct.unpack(\">II\", f.read(8))\n",
    "    nrows, ncols = struct.unpack(\">II\", f.read(8))\n",
    "    data = np.fromfile(f, dtype=np.dtype(np.uint8).newbyteorder('>'))\n",
    "    xtest = data.reshape((size, nrows, ncols))\n",
    "\n",
    "with open('t10k-labels.idx1-ubyte','rb') as f:\n",
    "    magic, size = struct.unpack(\">II\", f.read(8))\n",
    "    data = np.fromfile(f, dtype=np.dtype(np.uint8).newbyteorder('>'))\n",
    "    ytest = data.reshape((size,))\n",
    "    \n",
    "xtest = torch.from_numpy(xtest).float()\n",
    "ytest = torch.from_numpy(ytest)\n",
    "xtest = xtest.to(mps_device)\n",
    "ytest = ytest.to(mps_device)\n"
   ]
  },
  {
   "cell_type": "code",
   "execution_count": 8,
   "id": "1e85a16c-6c33-4333-a096-aa838e741278",
   "metadata": {},
   "outputs": [
    {
     "name": "stdout",
     "output_type": "stream",
     "text": [
      "label = tensor(6, dtype=torch.uint8)\n"
     ]
    },
    {
     "data": {
      "image/png": "[encoded data removed]",
      "text/plain": [
       "<Figure size 640x480 with 1 Axes>"
      ]
     },
     "metadata": {},
     "output_type": "display_data"
    }
   ],
   "source": [
    "import matplotlib.pyplot as plt\n",
    "def display_image_at_index(index, test=False):\n",
    "    # move to cpu first\n",
    "    xtestcpu = xtest.to(torch.device(\"cpu\"))\n",
    "    ytestcpu = ytest.to(torch.device(\"cpu\"))\n",
    "    xcpu = x.to(torch.device(\"cpu\"))\n",
    "    ycpu = y.to(torch.device(\"cpu\"))\n",
    "    if(test):\n",
    "        print(\"label = \" + str(ytestcpu[index]))\n",
    "        plt.imshow(xtestcpu[index,:,:], cmap='gray')\n",
    "        plt.show()\n",
    "    else:\n",
    "        print(\"label = \" + str(ycpu[index]))\n",
    "        plt.imshow(xcpu[index,:,:], cmap='gray')\n",
    "        plt.show()\n",
    "display_image_at_index(90)"
   ]
  },
  {
   "cell_type": "code",
   "execution_count": 9,
   "id": "c5a009db-36ca-4325-a4b7-76a950667b58",
   "metadata": {},
   "outputs": [
    {
     "data": {
      "text/plain": [
       "device(type='mps', index=0)"
      ]
     },
     "execution_count": 9,
     "metadata": {},
     "output_type": "execute_result"
    }
   ],
   "source": [
    "# create function that gets mini batches of size 32\n",
    "\n",
    "def get_batch(batch_size):\n",
    "    indexes = torch.randint(x.shape[0], size=(batch_size,))\n",
    "    x_batch = x[indexes]\n",
    "    y_batch = y[indexes]\n",
    "    return x_batch, y_batch\n",
    "\n",
    "\n",
    "xb, yb = get_batch(32)\n",
    "xb.device\n"
   ]
  },
  {
   "cell_type": "code",
   "execution_count": 10,
   "id": "baa5648c-3db1-4e03-a301-3607c1b7f492",
   "metadata": {},
   "outputs": [],
   "source": [
    "import matplotlib.pyplot as plt\n",
    "\n",
    "def visualize_probabilities(probabilities):\n",
    "    # Convert probabilities to a numpy array\n",
    "    probabilities = probabilities.detach().numpy()[0]\n",
    "\n",
    "    # Create a figure and axis\n",
    "    fig, ax = plt.subplots(figsize=(8, 4))\n",
    "\n",
    "    # Create a bar chart\n",
    "    bar_colors = ['blue' if p == probabilities.max() else 'gray' for p in probabilities]\n",
    "    ax.bar(range(len(probabilities)), probabilities, color=bar_colors)\n",
    "\n",
    "    # Set the tick labels and rotate them\n",
    "    ax.set_xticks(range(len(probabilities)))\n",
    "    ax.set_xticklabels([f'Class {i}' for i in range(len(probabilities))])\n",
    "    plt.setp(ax.get_xticklabels(), rotation=45, ha=\"right\", rotation_mode=\"anchor\")\n",
    "\n",
    "    # Add labels and title\n",
    "    ax.set_xlabel('Classes')\n",
    "    ax.set_ylabel('Probability')\n",
    "    ax.set_title('Probability Visualization')\n",
    "\n",
    "    # Adjust the layout and display the plot\n",
    "    fig.tight_layout()\n",
    "    plt.show()\n"
   ]
  },
  {
   "cell_type": "code",
   "execution_count": 11,
   "id": "8f5d903c-7f24-4b84-8347-1c08a0373890",
   "metadata": {},
   "outputs": [],
   "source": [
    "# my model architecture:\n",
    "# should do kaiming normal on them\n",
    "# simple model of:\n",
    "# input layer of input dim (28 x 28), output dim as hyper params\n",
    "#   input layer will have weights (no bias since we're doing batch norm), batch norm, relu non linearity\n",
    "# input size of output dim of previous layer and weights and biases then a non linearity then output dim of 10\n",
    "# then we will have the logits / loss function\n",
    "# see how this goes"
   ]
  },
  {
   "cell_type": "code",
   "execution_count": null,
   "id": "33a63206-66cc-4e6b-a6d3-9e04f4f25df1",
   "metadata": {},
   "outputs": [],
   "source": []
  },
  {
   "cell_type": "code",
   "execution_count": 12,
   "id": "7fcac25a-78e8-4553-91a6-8824189cf801",
   "metadata": {},
   "outputs": [
    {
     "name": "stdout",
     "output_type": "stream",
     "text": [
      "13355722\n"
     ]
    }
   ],
   "source": [
    "hidden_layer_1_size = (28 * 28) * 6\n",
    "hidden_layer_2_size = 1024 * 2\n",
    "\n",
    "hidden_layer_1 = torch.randn((x.shape[1] * x.shape[2], hidden_layer_1_size), device=mps_device)\n",
    "batch_norm_gain_1 = torch.ones((1, hidden_layer_1_size), device=mps_device)\n",
    "batch_norm_bias_1 = torch.zeros((1, hidden_layer_1_size), device=mps_device)\n",
    "bnmean_running1 = torch.zeros((1, hidden_layer_1_size), device=mps_device)\n",
    "bnstd_running1 = torch.ones((1, hidden_layer_1_size), device=mps_device)\n",
    "\n",
    "hidden_layer_2 = torch.randn((hidden_layer_1_size, hidden_layer_2_size), device=mps_device)\n",
    "batch_norm_gain_2 = torch.ones((1, hidden_layer_2_size), device=mps_device)\n",
    "batch_norm_bias_2 = torch.zeros((1, hidden_layer_2_size), device=mps_device)\n",
    "bnmean_running2 = torch.zeros((1, hidden_layer_2_size), device=mps_device)\n",
    "bnstd_running2 = torch.ones((1, hidden_layer_2_size), device=mps_device)\n",
    "\n",
    "final_layer_weights = torch.randn((hidden_layer_2_size, 10), device=mps_device)\n",
    "final_layer_biases = torch.randn((1, 10), device=mps_device)\n",
    "\n",
    "parameters = [hidden_layer_1, batch_norm_gain_1, batch_norm_bias_1, hidden_layer_2, batch_norm_gain_2, batch_norm_bias_2, final_layer_weights, final_layer_biases ]\n",
    "print(sum(p.nelement() for p in parameters)) # number of parameters in total\n",
    "for p in parameters:\n",
    "  p.requires_grad = True"
   ]
  },
  {
   "cell_type": "code",
   "execution_count": null,
   "id": "ff931ef4-bd18-4f72-b609-6916270b00a9",
   "metadata": {},
   "outputs": [],
   "source": []
  },
  {
   "cell_type": "code",
   "execution_count": 13,
   "id": "f10a4f00-b7bf-4634-b735-29e12b75a441",
   "metadata": {},
   "outputs": [
    {
     "name": "stdout",
     "output_type": "stream",
     "text": [
      "      0/   4000: 50.2974\n",
      "    100/   4000: 24.9344\n",
      "    200/   4000: 12.0261\n",
      "    300/   4000: 14.1457\n",
      "    400/   4000: 11.5388\n",
      "    500/   4000: 8.4767\n",
      "    600/   4000: 8.5632\n",
      "    700/   4000: 7.8285\n",
      "    800/   4000: 6.2100\n",
      "    900/   4000: 5.3163\n",
      "   1000/   4000: 3.3203\n",
      "   1100/   4000: 5.1246\n",
      "   1200/   4000: 5.0585\n",
      "   1300/   4000: 3.9554\n",
      "   1400/   4000: 3.8301\n",
      "   1500/   4000: 3.7027\n",
      "   1600/   4000: 3.5052\n",
      "   1700/   4000: 5.5046\n",
      "   1800/   4000: 3.2606\n",
      "   1900/   4000: 2.7393\n",
      "   2000/   4000: 2.7033\n",
      "   2100/   4000: 2.7033\n",
      "   2200/   4000: 4.6059\n",
      "   2300/   4000: 5.3443\n",
      "   2400/   4000: 4.1299\n",
      "   2500/   4000: 2.8193\n",
      "   2600/   4000: 3.1663\n",
      "   2700/   4000: 2.8582\n",
      "   2800/   4000: 2.6478\n",
      "   2900/   4000: 3.2393\n",
      "   3000/   4000: 1.5810\n",
      "   3100/   4000: 4.4155\n",
      "   3200/   4000: 3.2850\n",
      "   3300/   4000: 2.9528\n",
      "   3400/   4000: 0.7980\n",
      "   3500/   4000: 2.2592\n",
      "   3600/   4000: 3.3249\n",
      "   3700/   4000: 2.6810\n",
      "   3800/   4000: 3.2974\n",
      "   3900/   4000: 2.3842\n",
      "CPU times: user 34.5 s, sys: 5.33 s, total: 39.9 s\n",
      "Wall time: 1min 5s\n"
     ]
    }
   ],
   "source": [
    "%%time\n",
    "# optimization\n",
    "max_steps = 4000\n",
    "batch_size = 128\n",
    "lossi = []\n",
    "learning_rate = 0.004\n",
    "\n",
    "for i in range(max_steps):\n",
    "    # construct the minibatch\n",
    "    xb, yb = get_batch(batch_size)\n",
    "    xb = xb.view(batch_size, -1)\n",
    "\n",
    "    # forward pass for first layer\n",
    "    hidden_layer_1_activations = xb @ hidden_layer_1\n",
    "    # batchnorm layer\n",
    "    bnmeani1 = hidden_layer_1_activations.mean(0, keepdim=True)\n",
    "    bnstdi1 = hidden_layer_1_activations.std(0, keepdim=True)\n",
    "    hidden_layer_1_activations = batch_norm_gain_1 * (hidden_layer_1_activations - bnmeani1) / bnstdi1 + batch_norm_bias_1\n",
    "    with torch.no_grad():\n",
    "        bnmean_running1 = 0.999 * bnmean_running1 + 0.001 * bnmeani1\n",
    "        bnstd_running1 = 0.999 * bnstd_running1 + 0.001 * bnstdi1\n",
    "    # non linearity\n",
    "    hidden_layer_1_after_nonlinearity = torch.tanh(hidden_layer_1_activations)\n",
    "\n",
    "    # pass to next layer\n",
    "    # forward pass for first layer\n",
    "    hidden_layer_2_activations = hidden_layer_1_after_nonlinearity @ hidden_layer_2\n",
    "    # batchnorm layer\n",
    "    bnmeani2 = hidden_layer_2_activations.mean(0, keepdim=True)\n",
    "    bnstdi2 = hidden_layer_2_activations.std(0, keepdim=True)\n",
    "    hidden_layer_2_activations = batch_norm_gain_2 * (hidden_layer_2_activations - bnmeani2) / bnstdi2 + batch_norm_bias_2\n",
    "    with torch.no_grad():\n",
    "        bnmean_running2 = 0.999 * bnmean_running2 + 0.001 * bnmeani2\n",
    "        bnstd_running2 = 0.999 * bnstd_running2 + 0.001 * bnstdi2\n",
    "    # non linearity\n",
    "    hidden_layer_2_after_nonlinearity = torch.tanh(hidden_layer_2_activations)\n",
    "\n",
    "    # final layer logits\n",
    "    logits = hidden_layer_2_after_nonlinearity @ final_layer_weights + final_layer_biases\n",
    "    loss = F.cross_entropy(logits, yb)\n",
    "    \n",
    "    for p in parameters:\n",
    "        p.grad = None\n",
    "        \n",
    "    loss.backward()\n",
    "\n",
    "    for p in parameters:\n",
    "        p.data += -learning_rate * p.grad\n",
    "\n",
    "    if i % 100 == 0:\n",
    "        print(f'{i:7d}/{max_steps:7d}: {loss.item():.4f}')\n",
    "    \n",
    "    lossi.append(loss.log10().item())\n",
    "# mps time = CPU times: user 7.17 s, sys: 1.29 s, total: 8.46 s\n"
   ]
  },
  {
   "cell_type": "code",
   "execution_count": 14,
   "id": "5f5c5964-1d58-40ed-aeef-e16afb8d1a29",
   "metadata": {},
   "outputs": [
    {
     "data": {
      "text/plain": [
       "[<matplotlib.lines.Line2D at 0x16c33cc50>]"
      ]
     },
     "execution_count": 14,
     "metadata": {},
     "output_type": "execute_result"
    },
    {
     "data": {
      "image/png": "[encoded data removed]",
      "text/plain": [
       "<Figure size 640x480 with 1 Axes>"
      ]
     },
     "metadata": {},
     "output_type": "display_data"
    }
   ],
   "source": [
    "plt.plot(lossi)"
   ]
  },
  {
   "cell_type": "code",
   "execution_count": 15,
   "id": "3e166eef-e76a-42eb-baff-4e76b2635d01",
   "metadata": {},
   "outputs": [],
   "source": [
    "def sample_from_model(x, visualize=False):\n",
    "    # reshape the input to a batch size of 1\n",
    "    x = x.view(1, -1)\n",
    "\n",
    "    # forward pass for first layer\n",
    "    hidden_layer_1_activations = x @ hidden_layer_1\n",
    "\n",
    "    # batchnorm layer\n",
    "    hidden_layer_1_activations = batch_norm_gain_1 * (hidden_layer_1_activations - bnmean_running1) / bnstd_running1 + batch_norm_bias_1\n",
    "\n",
    "    # non linearity\n",
    "    hidden_layer_1_after_nonlinearity = torch.tanh(hidden_layer_1_activations)\n",
    "\n",
    "    # pass to next layer\n",
    "    # forward pass for first layer\n",
    "    hidden_layer_2_activations = hidden_layer_1_after_nonlinearity @ hidden_layer_2\n",
    "\n",
    "    # batchnorm layer\n",
    "    hidden_layer_2_activations = batch_norm_gain_2 * (hidden_layer_2_activations - bnmean_running2) / bnstd_running2 + batch_norm_bias_2\n",
    "\n",
    "    # non linearity\n",
    "    hidden_layer_2_after_nonlinearity = torch.tanh(hidden_layer_2_activations)\n",
    "\n",
    "    # final layer logits\n",
    "    logits = hidden_layer_2_after_nonlinearity @ final_layer_weights + final_layer_biases\n",
    "\n",
    "    # apply softmax to get probabilities\n",
    "    probabilities = torch.softmax(logits, dim=1)\n",
    "    if(visualize):\n",
    "        visualize_logits(probabilities)\n",
    "\n",
    "    return probabilities"
   ]
  },
  {
   "cell_type": "code",
   "execution_count": 16,
   "id": "b13e0fe9-de5d-4858-98b0-c8e50c5749cb",
   "metadata": {},
   "outputs": [
    {
     "name": "stdout",
     "output_type": "stream",
     "text": [
      "label = tensor(9, dtype=torch.uint8)\n"
     ]
    },
    {
     "data": {
      "image/png": "[encoded data removed]",
      "text/plain": [
       "<Figure size 640x480 with 1 Axes>"
      ]
     },
     "metadata": {},
     "output_type": "display_data"
    },
    {
     "ename": "NameError",
     "evalue": "name 'visualize_logits' is not defined",
     "output_type": "error",
     "traceback": [
      "\u001b[0;31m---------------------------------------------------------------------------\u001b[0m",
      "\u001b[0;31mNameError\u001b[0m                                 Traceback (most recent call last)",
      "Cell \u001b[0;32mIn[16], line 4\u001b[0m\n\u001b[1;32m      2\u001b[0m image_to_sample \u001b[38;5;241m=\u001b[39m i\n\u001b[1;32m      3\u001b[0m display_image_at_index(image_to_sample, test\u001b[38;5;241m=\u001b[39m\u001b[38;5;28;01mTrue\u001b[39;00m)\n\u001b[0;32m----> 4\u001b[0m index \u001b[38;5;241m=\u001b[39m torch\u001b[38;5;241m.\u001b[39mmax(\u001b[43msample_from_model\u001b[49m\u001b[43m(\u001b[49m\u001b[43mxtest\u001b[49m\u001b[43m[\u001b[49m\u001b[43mimage_to_sample\u001b[49m\u001b[43m]\u001b[49m\u001b[43m,\u001b[49m\u001b[43m \u001b[49m\u001b[43mvisualize\u001b[49m\u001b[38;5;241;43m=\u001b[39;49m\u001b[38;5;28;43;01mTrue\u001b[39;49;00m\u001b[43m)\u001b[49m, \u001b[38;5;241m1\u001b[39m, keepdim\u001b[38;5;241m=\u001b[39m\u001b[38;5;28;01mTrue\u001b[39;00m)[\u001b[38;5;241m1\u001b[39m]\u001b[38;5;241m.\u001b[39mitem()\n\u001b[1;32m      5\u001b[0m \u001b[38;5;28mprint\u001b[39m(index)\n",
      "Cell \u001b[0;32mIn[15], line 30\u001b[0m, in \u001b[0;36msample_from_model\u001b[0;34m(x, visualize)\u001b[0m\n\u001b[1;32m     28\u001b[0m probabilities \u001b[38;5;241m=\u001b[39m torch\u001b[38;5;241m.\u001b[39msoftmax(logits, dim\u001b[38;5;241m=\u001b[39m\u001b[38;5;241m1\u001b[39m)\n\u001b[1;32m     29\u001b[0m \u001b[38;5;28;01mif\u001b[39;00m(visualize):\n\u001b[0;32m---> 30\u001b[0m     \u001b[43mvisualize_logits\u001b[49m(probabilities)\n\u001b[1;32m     32\u001b[0m \u001b[38;5;28;01mreturn\u001b[39;00m probabilities\n",
      "\u001b[0;31mNameError\u001b[0m: name 'visualize_logits' is not defined"
     ]
    }
   ],
   "source": [
    "for i in range(20, 21):\n",
    "    image_to_sample = i\n",
    "    display_image_at_index(image_to_sample, test=True)\n",
    "    index = torch.max(sample_from_model(xtest[image_to_sample], visualize=True), 1, keepdim=True)[1].item()\n",
    "    print(index)"
   ]
  },
  {
   "cell_type": "code",
   "execution_count": null,
   "id": "4ae1efcd-e87c-40f2-96b5-b210e57cb147",
   "metadata": {},
   "outputs": [],
   "source": [
    "# get loss over entire test set:\n",
    "# next up, get loss over entire test set, make my own tool to \n",
    "# start \"torchifying\" everything into classes and blocks and modules like Karpathy did\n",
    "# try adding dropout too\n",
    "# do the analysis histograms and try to interpret them\n",
    "# write letters and visualize, do some more tweaking and playing around to optimize the model a bit more\n",
    "# try using adamw\n",
    "# look up different architectures and try them out but this time with torch.nn maybe"
   ]
  },
  {
   "cell_type": "code",
   "execution_count": null,
   "id": "259365a1-1d29-4b63-bf5d-3a1243b47cf3",
   "metadata": {},
   "outputs": [],
   "source": [
    "# split test set into half dev half final test, get loss over dev\n",
    "xtest.shape, ytest.shape\n",
    "xdev = xtest[:len(xtest) // 2]\n",
    "ydev = ytest[:len(xtest) // 2]\n",
    "xtest = xtest[len(xtest) // 2:]\n",
    "ytest = ytest[len(xtest) // 2:]"
   ]
  },
  {
   "cell_type": "code",
   "execution_count": null,
   "id": "c9fc1cdc-f59d-4de1-8bf6-e76783e5633e",
   "metadata": {},
   "outputs": [
    {
     "data": {
      "text/plain": [
       "torch.Size([5000, 28, 28])"
      ]
     },
     "execution_count": 15,
     "metadata": {},
     "output_type": "execute_result"
    }
   ],
   "source": [
    "xdev.shape"
   ]
  },
  {
   "cell_type": "code",
   "execution_count": null,
   "id": "0673e1fc-c0d3-403a-8798-52430b33948a",
   "metadata": {},
   "outputs": [],
   "source": [
    "def get_x_from_model(x):\n",
    "    # forward pass for first layer\n",
    "    x = x.view(x.shape[0], -1)\n",
    "    \n",
    "    hidden_layer_1_activations = x @ hidden_layer_1\n",
    "\n",
    "    # batchnorm layer\n",
    "    hidden_layer_1_activations = batch_norm_gain_1 * (hidden_layer_1_activations - bnmean_running1) / bnstd_running1 + batch_norm_bias_1\n",
    "\n",
    "    # non linearity\n",
    "    hidden_layer_1_after_nonlinearity = torch.tanh(hidden_layer_1_activations)\n",
    "\n",
    "    # pass to next layer\n",
    "    # forward pass for first layer\n",
    "    hidden_layer_2_activations = hidden_layer_1_after_nonlinearity @ hidden_layer_2\n",
    "\n",
    "    # batchnorm layer\n",
    "    hidden_layer_2_activations = batch_norm_gain_2 * (hidden_layer_2_activations - bnmean_running2) / bnstd_running2 + batch_norm_bias_2\n",
    "\n",
    "    # non linearity\n",
    "    hidden_layer_2_after_nonlinearity = torch.tanh(hidden_layer_2_activations)\n",
    "\n",
    "    # final layer logits\n",
    "    logits = hidden_layer_2_after_nonlinearity @ final_layer_weights + final_layer_biases\n",
    "\n",
    "    # apply softmax to get probabilities\n",
    "    probabilities = torch.softmax(logits, dim=1)\n",
    "\n",
    "    return probabilities"
   ]
  },
  {
   "cell_type": "code",
   "execution_count": null,
   "id": "3b462cff-1df7-4d93-9bcb-b6a05d8d52f5",
   "metadata": {},
   "outputs": [],
   "source": []
  },
  {
   "cell_type": "code",
   "execution_count": 152,
   "id": "80aa6dd4-3a70-4173-bc9f-d74c68b5a814",
   "metadata": {},
   "outputs": [
    {
     "ename": "NameError",
     "evalue": "name 'xdev' is not defined",
     "output_type": "error",
     "traceback": [
      "\u001b[0;31m---------------------------------------------------------------------------\u001b[0m",
      "\u001b[0;31mNameError\u001b[0m                                 Traceback (most recent call last)",
      "Cell \u001b[0;32mIn[152], line 24\u001b[0m\n\u001b[1;32m     21\u001b[0m     \u001b[38;5;28mprint\u001b[39m(same \u001b[38;5;241m/\u001b[39m \u001b[38;5;28mlen\u001b[39m(x))\n\u001b[1;32m     23\u001b[0m \u001b[38;5;66;03m# initial set of hyper params\u001b[39;00m\n\u001b[0;32m---> 24\u001b[0m calculate_loss(\u001b[43mxdev\u001b[49m, ydev)\n",
      "\u001b[0;31mNameError\u001b[0m: name 'xdev' is not defined"
     ]
    }
   ],
   "source": [
    "def calculate_loss(x, y):\n",
    "    x = x.to(torch.device(\"mps\"))\n",
    "    y = y.to(torch.device(\"mps\"))\n",
    "    xpredindex = [torch.max(sample_from_model(x[i], visualize=False), 1, keepdim=True)[1].item() for i in range(0, len(x))]\n",
    "    xpred = get_x_from_model(xdev)\n",
    "\n",
    "    # run cross entropy loss on it\n",
    "    loss = F.cross_entropy(torch.tensor(xpred), y)\n",
    "    print(loss)\n",
    "    \n",
    "    # print count of same and differences\n",
    "    same = 0\n",
    "    diff = 0\n",
    "    for i in range(0, len(x)):\n",
    "        if(xpredindex[i] == y[i]):\n",
    "            same += 1\n",
    "        else:\n",
    "            diff += 1\n",
    "    print(same)\n",
    "    print(diff)\n",
    "    print(same / len(x))\n",
    "\n",
    "# initial set of hyper params\n",
    "calculate_loss(xdev, ydev)\n"
   ]
  },
  {
   "cell_type": "code",
   "execution_count": null,
   "id": "77e8418a-8619-4284-9c7c-ab9029f7b7ea",
   "metadata": {},
   "outputs": [],
   "source": [
    "# scaled up model with larger batch size and larger hidden layer 2 and 6000 training steps\n",
    "calculate_loss(xdev, ydev)\n",
    "\n",
    "# looool so actually it got worse but not that much, it's starting to overfit I believe\n",
    "# let's now go in and torchify everything\n"
   ]
  },
  {
   "cell_type": "code",
   "execution_count": null,
   "id": "8b062b9a-aa53-46d7-a6a7-400a6e12a600",
   "metadata": {},
   "outputs": [],
   "source": [
    "# even bigger model\n",
    "calculate_loss(xdev, ydev)\n",
    "\n",
    "# looool so actually it got worse but not that much, it's starting to overfit I believe\n",
    "# let's now go in and torchify everything\n"
   ]
  },
  {
   "cell_type": "code",
   "execution_count": 62,
   "id": "43460d6a-dcd5-42f3-a1b2-42e45151129f",
   "metadata": {},
   "outputs": [],
   "source": [
    "import torch\n",
    "\n",
    "class Linear:\n",
    "    def __init__(self, fan_in, fan_out, bias=True, device='cpu'):\n",
    "        # initialize weights and biases\n",
    "        self.weights = torch.randn((fan_in, fan_out), device=device)\n",
    "        self.biases = torch.randn((1, fan_out), device=device) if bias else None\n",
    "        \n",
    "    def __call__(self, x):\n",
    "        self.out = x @ self.weights\n",
    "        if self.biases is not None:\n",
    "            self.out = self.out + self.biases\n",
    "        return self.out\n",
    "        \n",
    "    def parameters(self):\n",
    "        return [self.weights] + ([] if self.biases is None else [self.biases])\n",
    "\n",
    "class BatchNorm1d:\n",
    "    def __init__(self, dim, eps=1e-5, momentum=0.1, device='cpu'):\n",
    "        self.eps = eps\n",
    "        self.momentum = momentum\n",
    "        self.training = True\n",
    "          \n",
    "        # parameters (trained with backprop)\n",
    "        self.gamma = torch.ones(dim, device=device)\n",
    "        self.beta = torch.zeros(dim, device=device)\n",
    "          \n",
    "        # buffers (trained with a running 'momentum update')\n",
    "        self.running_mean = torch.zeros(dim, device=device)\n",
    "        self.running_var = torch.ones(dim, device=device)\n",
    "        \n",
    "    def __call__(self, x):\n",
    "        if self.training:\n",
    "            xmean = x.mean(0, keepdim=True)\n",
    "            xvar = x.var(0, keepdim=True)\n",
    "        else:\n",
    "            xmean = self.running_mean\n",
    "            xvar = self.running_var\n",
    "            \n",
    "        xhat = (x - xmean) / torch.sqrt(xvar + self.eps)\n",
    "        self.out = self.gamma * xhat + self.beta\n",
    "        \n",
    "        with torch.no_grad():\n",
    "            self.running_mean = (1-self.momentum) * self.running_mean + self.momentum * xmean\n",
    "            self.running_var = (1-self.momentum) * self.running_var + self.momentum * xvar\n",
    "\n",
    "        return self.out\n",
    "        \n",
    "    def parameters(self):\n",
    "        return [self.gamma, self.beta]\n",
    "\n",
    "class LayerNorm:\n",
    "    def __init__(self, dim, eps=1e-5, device='cpu'):\n",
    "        self.eps = eps\n",
    "        self.gamma = torch.ones(dim, device=device)\n",
    "        self.beta = torch.zeros(dim, device=device)\n",
    "\n",
    "    def __call__(self, x):\n",
    "        layer_mean = x.mean(1, keepdim=True)\n",
    "        layer_var = x.var(1, keepdim=True)\n",
    "        xhat = (x - layer_mean) / torch.sqrt(layer_var + self.eps)\n",
    "        self.out = self.gamma * xhat + self.beta\n",
    "\n",
    "        return self.out\n",
    "        \n",
    "    def parameters(self):\n",
    "        return [self.gamma, self.beta]\n",
    "\n",
    "class Tanh:\n",
    "    def __call__(self, x):\n",
    "        self.out = torch.tanh(x)\n",
    "        return self.out\n",
    "    \n",
    "    def parameters(self):\n",
    "        return []\n",
    "\n",
    "class Relu:\n",
    "    def __call__(self, x):\n",
    "        self.out = torch.relu(x)\n",
    "        return self.out\n",
    "    \n",
    "    def parameters(self):\n",
    "        return []\n",
    "\n",
    "class Sequential:\n",
    "    def __init__(self, layers):\n",
    "        self.layers = layers\n",
    "        \n",
    "    def __call__(self, x):\n",
    "        for layer in self.layers:\n",
    "            x = layer(x)\n",
    "        return x\n",
    "    \n",
    "    def parameters(self):\n",
    "        return [p for layer in self.layers for p in layer.parameters()]\n"
   ]
  },
  {
   "cell_type": "code",
   "execution_count": 164,
   "id": "2ed8c06b-8732-469f-97a4-8350e792280f",
   "metadata": {},
   "outputs": [],
   "source": [
    "class Simple_Model:\n",
    "    def __init__(self, input_dim, output_dim, num_layers, layer_widths, activation_function, norm_type, steps, learning_rate, batch_size, device=\"cpu\") -> None:\n",
    "        if(len(layer_widths) != num_layers):\n",
    "            print(len(layer_widths))\n",
    "            raise Exception(\"Your number of layer widths must be the same as the number of layers passed in\") \n",
    "        layer_widths.insert(0, input_dim)\n",
    "        layer_widths.append(output_dim)\n",
    "        layers = []\n",
    "        for i in range(num_layers):\n",
    "            linear_layer = Linear(layer_widths[i], layer_widths[i + 1], device=device)\n",
    "            if(norm_type == \"Batch\"):\n",
    "                norm_layer = BatchNorm1d(layer_widths[i + 1], device=device)\n",
    "            elif(norm_type == \"Layer\"):\n",
    "                norm_layer = LayerNorm(layer_widths[i + 1], device=device)\n",
    "            if(activation_function == \"Relu\"):\n",
    "                activation = Tanh()\n",
    "            elif(activation_function == \"Tanh\"):\n",
    "                activation = Relu()\n",
    "            if(i == num_layers - 1):\n",
    "                layers.append(linear_layer)\n",
    "            else:\n",
    "                layers = layers + [linear_layer, norm_layer, activation]\n",
    "        self.layers = layers\n",
    "        self.steps = steps\n",
    "        self.learning_rate = learning_rate\n",
    "        self.batch_size = batch_size\n",
    "        self.device = device\n",
    "        self.model = Sequantial(layers)\n",
    "        self.lossi = []\n",
    "        for p in self.model.parameters():\n",
    "            p.requires_grad = True\n",
    "\n",
    "    def train(self, x, y, train_print_step=100):\n",
    "        for i in range(self.steps):\n",
    "            xb, yb = self.get_batch(x, y)\n",
    "            xb = xb.view(self.batch_size, -1)\n",
    "            for layer in self.layers:\n",
    "                xb = layer(xb)\n",
    "            loss = F.cross_entropy(xb, yb)\n",
    "            for p in parameters:\n",
    "                p.grad = None\n",
    "            loss.backward()\n",
    "\n",
    "            for p in self.model.parameters():\n",
    "                p.data += -self.learning_rate * p.grad\n",
    "\n",
    "            if i % train_print_step == 0:\n",
    "                print(f'{i:7d}/{self.steps:7d}: {loss.item():.4f}')\n",
    "        \n",
    "            self.lossi.append(loss.log10().item())\n",
    "\n",
    "    def get_batch(self, x, y):\n",
    "        indexes = torch.randint(x.shape[0], size=(self.batch_size,))\n",
    "        x_batch = x[indexes]\n",
    "        y_batch = y[indexes]\n",
    "        return x_batch, y_batch\n",
    "    \n",
    "    def plot_lossi(self):\n",
    "        plt.plot(self.lossi)\n",
    "\n",
    "    def sample_from_model(self, x, visualize=False):\n",
    "        x = x.view(1, -1)\n",
    "        for layer in self.layers:\n",
    "            x = layer(x)\n",
    "        x = torch.softmax(x, dim=1)\n",
    "        label = torch.max(x, 1, keepdim=True)[1].item()\n",
    "\n",
    "        print(f\"Greatest Probability: {label}\")\n",
    "        return \n",
    "\n",
    "    def calculate_loss(self, x, y):\n",
    "        x = x.to(self.device)\n",
    "        y = y.to(self.device)\n",
    "        x = x.view(len(x), -1)\n",
    "        for layer in self.layers:\n",
    "            x = layer(x)\n",
    "        loss = F.cross_entropy(x, y)\n",
    "        print(loss.item())\n",
    "\n",
    "        y_pred_index = torch.argmax(x, dim=1)\n",
    "\n",
    "        same = torch.sum(y_pred_index == y).item()\n",
    "        diff = len(y) - same\n",
    "\n",
    "        print(f\"Correct: {same}\")\n",
    "        print(f\"Wrong: {diff}\")\n",
    "        print(f\"Proportion: {same / len(y)}\")\n",
    "\n",
    "\n",
    "    def visualize_histograms(self):\n",
    "        pass\n"
   ]
  },
  {
   "cell_type": "code",
   "execution_count": 167,
   "id": "641e9177",
   "metadata": {},
   "outputs": [
    {
     "name": "stdout",
     "output_type": "stream",
     "text": [
      "      0/    500: 36.7200\n",
      "    100/    500: 2.4019\n",
      "    200/    500: 0.9503\n",
      "    300/    500: 0.8285\n",
      "    400/    500: 0.6480\n"
     ]
    }
   ],
   "source": [
    "my_model = Simple_Model(input_dim=784, output_dim=10, num_layers=3, layer_widths=[256, 256, 256], activation_function=\"Tanh\", norm_type=\"Layer\", steps=500, learning_rate=0.02, batch_size=64, device=mps_device)\n",
    "my_model.train(x, y)"
   ]
  },
  {
   "cell_type": "code",
   "execution_count": 170,
   "id": "30e6d80d",
   "metadata": {},
   "outputs": [
    {
     "name": "stdout",
     "output_type": "stream",
     "text": [
      "10000\n",
      "0.8526021242141724\n",
      "7638\n",
      "2362\n",
      "0.7638\n"
     ]
    }
   ],
   "source": [
    "# my_model.sample_from_model(xtest[36])\n",
    "print(len(xtest))\n",
    "my_model.calculate_loss(xtest, ytest)"
   ]
  },
  {
   "cell_type": "code",
   "execution_count": null,
   "id": "0e541c8b",
   "metadata": {},
   "outputs": [],
   "source": [
    "m1 = Simple_Model(input_dim=784, output_dim=10, num_layers=3, layer_widths=[512, 512, 512], activation_function=\"Tanh\", norm_type=\"Batch\", steps=1000, learning_rate=0.02, batch_size=64, device=mps_device)\n",
    "m2 = Simple_Model(input_dim=784, output_dim=10, num_layers=5, layer_widths=[256, 256, 256, 256, 128], activation_function=\"Tanh\", norm_type=\"Layer\", steps=1000, learning_rate=0.01, batch_size=64, device=mps_device)\n",
    "m3 = Simple_Model(input_dim=784, output_dim=10, num_layers=4, layer_widths=[1028, 1028, 1028, 512], activation_function=\"Tanh\", norm_type=\"Layer\", steps=1000, learning_rate=0.01, batch_size=64, device=mps_device)\n",
    "m4 = Simple_Model(input_dim=784, output_dim=10, num_layers=6, layer_widths=[256, 256, 256, 128, 128, 128], activation_function=\"Tanh\", norm_type=\"Layer\", steps=1000, learning_rate=0.01, batch_size=64, device=mps_device)\n",
    "m5 = Simple_Model(input_dim=784, output_dim=10, num_layers=4, layer_widths=[2056, 2056, 2056], activation_function=\"Tanh\", norm_type=\"Layer\", steps=1000, learning_rate=0.02, batch_size=64, device=mps_device)\n",
    "models = [m1, m2, m3, m4, m5]\n",
    "for model in models:\n",
    "    model.train(x,y, train_print_step=250)\n",
    "    model.calculate_loss(xtest, ytest)\n",
    "    print(\"-------------\")"
   ]
  },
  {
   "cell_type": "code",
   "execution_count": 171,
   "id": "4b5a0383",
   "metadata": {},
   "outputs": [
    {
     "name": "stdout",
     "output_type": "stream",
     "text": [
      "Greatest Probability: 4\n",
      "label = tensor(4, dtype=torch.uint8)\n"
     ]
    },
    {
     "data": {
      "image/png": "[encoded data removed]",
      "text/plain": [
       "<Figure size 640x480 with 1 Axes>"
      ]
     },
     "metadata": {},
     "output_type": "display_data"
    },
    {
     "name": "stdout",
     "output_type": "stream",
     "text": [
      "Greatest Probability: 9\n",
      "label = tensor(7, dtype=torch.uint8)\n"
     ]
    },
    {
     "data": {
      "image/png": "[encoded data removed]",
      "text/plain": [
       "<Figure size 640x480 with 1 Axes>"
      ]
     },
     "metadata": {},
     "output_type": "display_data"
    },
    {
     "name": "stdout",
     "output_type": "stream",
     "text": [
      "Greatest Probability: 1\n",
      "label = tensor(1, dtype=torch.uint8)\n"
     ]
    },
    {
     "data": {
      "image/png": "[encoded data removed]",
      "text/plain": [
       "<Figure size 640x480 with 1 Axes>"
      ]
     },
     "metadata": {},
     "output_type": "display_data"
    },
    {
     "name": "stdout",
     "output_type": "stream",
     "text": [
      "Greatest Probability: 2\n",
      "label = tensor(2, dtype=torch.uint8)\n"
     ]
    },
    {
     "data": {
      "image/png": "[encoded data removed]",
      "text/plain": [
       "<Figure size 640x480 with 1 Axes>"
      ]
     },
     "metadata": {},
     "output_type": "display_data"
    },
    {
     "name": "stdout",
     "output_type": "stream",
     "text": [
      "Greatest Probability: 9\n",
      "label = tensor(4, dtype=torch.uint8)\n"
     ]
    },
    {
     "data": {
      "image/png": "[encoded data removed]",
      "text/plain": [
       "<Figure size 640x480 with 1 Axes>"
      ]
     },
     "metadata": {},
     "output_type": "display_data"
    },
    {
     "name": "stdout",
     "output_type": "stream",
     "text": [
      "Greatest Probability: 0\n",
      "label = tensor(0, dtype=torch.uint8)\n"
     ]
    },
    {
     "data": {
      "image/png": "[encoded data removed]",
      "text/plain": [
       "<Figure size 640x480 with 1 Axes>"
      ]
     },
     "metadata": {},
     "output_type": "display_data"
    },
    {
     "name": "stdout",
     "output_type": "stream",
     "text": [
      "Greatest Probability: 2\n",
      "label = tensor(2, dtype=torch.uint8)\n"
     ]
    },
    {
     "data": {
      "image/png": "[encoded data removed]",
      "text/plain": [
       "<Figure size 640x480 with 1 Axes>"
      ]
     },
     "metadata": {},
     "output_type": "display_data"
    },
    {
     "name": "stdout",
     "output_type": "stream",
     "text": [
      "Greatest Probability: 7\n",
      "label = tensor(7, dtype=torch.uint8)\n"
     ]
    },
    {
     "data": {
      "image/png": "[encoded data removed]",
      "text/plain": [
       "<Figure size 640x480 with 1 Axes>"
      ]
     },
     "metadata": {},
     "output_type": "display_data"
    },
    {
     "name": "stdout",
     "output_type": "stream",
     "text": [
      "Greatest Probability: 4\n",
      "label = tensor(4, dtype=torch.uint8)\n"
     ]
    },
    {
     "data": {
      "image/png": "[encoded data removed]",
      "text/plain": [
       "<Figure size 640x480 with 1 Axes>"
      ]
     },
     "metadata": {},
     "output_type": "display_data"
    },
    {
     "name": "stdout",
     "output_type": "stream",
     "text": [
      "Greatest Probability: 3\n",
      "label = tensor(3, dtype=torch.uint8)\n"
     ]
    },
    {
     "data": {
      "image/png": "[encoded data removed]",
      "text/plain": [
       "<Figure size 640x480 with 1 Axes>"
      ]
     },
     "metadata": {},
     "output_type": "display_data"
    }
   ],
   "source": [
    "for i in range(300, 310):\n",
    "    my_model.sample_from_model(xtest[i])\n",
    "    display_image_at_index(i, test=True)"
   ]
  }
 ],
 "metadata": {
  "kernelspec": {
   "display_name": "Python 3 (ipykernel)",
   "language": "python",
   "name": "python3"
  },
  "language_info": {
   "codemirror_mode": {
    "name": "ipython",
    "version": 3
   },
   "file_extension": ".py",
   "mimetype": "text/x-python",
   "name": "python",
   "nbconvert_exporter": "python",
   "pygments_lexer": "ipython3",
   "version": "3.11.4"
  }
 },
 "nbformat": 4,
 "nbformat_minor": 5
}
